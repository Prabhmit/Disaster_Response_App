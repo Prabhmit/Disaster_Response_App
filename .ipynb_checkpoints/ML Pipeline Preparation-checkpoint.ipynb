{
 "cells": [
  {
   "cell_type": "markdown",
   "metadata": {},
   "source": [
    "# ML Pipeline Preparation\n",
    "Follow the instructions below to help you create your ML pipeline.\n",
    "### 1. Import libraries and load data from database.\n",
    "- Import Python libraries\n",
    "- Load dataset from database with [`read_sql_table`](https://pandas.pydata.org/pandas-docs/stable/generated/pandas.read_sql_table.html)\n",
    "- Define feature and target variables X and Y"
   ]
  },
  {
   "cell_type": "code",
   "execution_count": 1,
   "metadata": {},
   "outputs": [
    {
     "name": "stderr",
     "output_type": "stream",
     "text": [
      "[nltk_data] Downloading package punkt to\n",
      "[nltk_data]     C:\\Users\\Administrator\\AppData\\Roaming\\nltk_data...\n",
      "[nltk_data]   Package punkt is already up-to-date!\n",
      "[nltk_data] Downloading package wordnet to\n",
      "[nltk_data]     C:\\Users\\Administrator\\AppData\\Roaming\\nltk_data...\n",
      "[nltk_data]   Package wordnet is already up-to-date!\n",
      "[nltk_data] Downloading package stopwords to\n",
      "[nltk_data]     C:\\Users\\Administrator\\AppData\\Roaming\\nltk_data...\n",
      "[nltk_data]   Package stopwords is already up-to-date!\n"
     ]
    }
   ],
   "source": [
    "# download necessary NLTK data \n",
    "import nltk\n",
    "nltk.download(['punkt', 'wordnet','stopwords'])\n",
    "import sqlite3\n",
    "\n",
    "# import libraries\n",
    "import re \n",
    "import numpy as np\n",
    "import pandas as pd\n",
    "import pickle\n",
    "from nltk.tokenize import word_tokenize\n",
    "from nltk.corpus import stopwords\n",
    "from nltk.stem.wordnet import WordNetLemmatizer\n",
    "from sqlalchemy import create_engine\n",
    "from sklearn.model_selection import train_test_split\n",
    "from sklearn.pipeline import Pipeline\n",
    "from sklearn.model_selection import GridSearchCV\n",
    "from sklearn.ensemble import RandomForestClassifier\n",
    "from sklearn.datasets import make_multilabel_classification\n",
    "from sklearn.multioutput import MultiOutputClassifier\n",
    "from sklearn.metrics import classification_report\n",
    "from sklearn.metrics import f1_score                            \n",
    "from sklearn.feature_extraction.text import CountVectorizer, TfidfTransformer\n",
    "from sklearn.neighbors import KNeighborsClassifier"
   ]
  },
  {
   "cell_type": "code",
   "execution_count": 47,
   "metadata": {},
   "outputs": [],
   "source": [
    "# load data from database\n",
    "def load_data(database_filepath):\n",
    "    \n",
    "    '''\n",
    "    Function that takes a table from database and provides array of messages and categories \n",
    "    \n",
    "    Input: database_filepath: The path of sql database\n",
    "    Output: X: Messages, y: Categories, category_names: Labels for categories\n",
    "    \n",
    "    '''\n",
    "    \n",
    "    conn = sqlite3.connect(database_filepath)\n",
    "    df = pd.read_sql(\"SELECT * from tidy_dataset\", conn)\n",
    "    conn.close()\n",
    "    \n",
    "    # define features and label arrays\n",
    "    X = df.iloc[:,1].values\n",
    "    y = df.iloc[:,3:].values\n",
    "    category_names = list(df.iloc[:,3:].columns)\n",
    "\n",
    "    return X, y, category_names"
   ]
  },
  {
   "cell_type": "code",
   "execution_count": 24,
   "metadata": {},
   "outputs": [],
   "source": [
    "# Function from ETL script\n",
    "\n",
    "def clean_data():\n",
    "    \n",
    "    '''\n",
    "    Function that reads messages and categories files, merges and cleans the data and loads it to sql database\n",
    "    \n",
    "    Input: -\n",
    "    Output:-\n",
    "    \n",
    "    '''\n",
    "    \n",
    "    # read in file\n",
    "    messages = pd.read_csv('messages.csv')             \n",
    "    categories = pd.read_csv('categories.csv')        \n",
    "    \n",
    "     # merge datasets\n",
    "    df = messages.merge(categories, how='outer',on='id')\n",
    "    \n",
    "    # create a dataframe of the 36 individual category columns\n",
    "    categories = df['categories'].str.split(pat=';',expand=True)\n",
    "    \n",
    "    # select the first row of the categories dataframe\n",
    "    row = categories.iloc[0,]\n",
    "\n",
    "    # extract a list of new column names for categories.\n",
    "    category_colnames = list(map(lambda x: x[:-2], row))\n",
    "\n",
    "    # rename the columns of `categories`\n",
    "    categories.columns = category_colnames\n",
    "\n",
    "    # set each value to be the last character of the string\n",
    "    for column in categories:\n",
    "        categories[column] =  categories[column].apply(lambda x: x[-1])\n",
    "    \n",
    "    # convert column from string to numeric\n",
    "    categories[column] = pd.to_numeric(categories[column]) \n",
    "\n",
    "    # drop the original, categories column from `df`\n",
    "    df.drop(labels=['categories','original'], axis=1, inplace=True)\n",
    "    \n",
    "    # concatenate the original dataframe with the new `categories` dataframe\n",
    "    df = pd.concat([df,categories], axis=1)\n",
    "\n",
    "    # Converting category columns to numeric\n",
    "    df.iloc[:,3:] = df.iloc[:,3:].apply(pd.to_numeric)\n",
    "\n",
    "    # drop duplicates\n",
    "    df.drop_duplicates(inplace=True)\n",
    "    \n",
    "    # removing rows labelled as 2\n",
    "    df.drop(df[df['related']==2].index, inplace=True)\n",
    "\n",
    "    # load to database\n",
    "    engine = create_engine('sqlite:///disaster_response.db')\n",
    "    df.to_sql('tidy_dataset', engine, if_exists='replace', index=False)\n"
   ]
  },
  {
   "cell_type": "markdown",
   "metadata": {},
   "source": [
    "### 2. Write a tokenization function to process your text data"
   ]
  },
  {
   "cell_type": "code",
   "execution_count": 25,
   "metadata": {},
   "outputs": [],
   "source": [
    "def tokenize(text):    # This function will be used in the pipeline\n",
    "\n",
    "    '''\n",
    "    Function that takes a text, cleans and lemmatizes it and returns clean tokens\n",
    "    \n",
    "    Input: text: array of messages\n",
    "    Output: clean tokens : clean and lemmatized tokens\n",
    "    \n",
    "    '''\n",
    "    \n",
    "    # Remove punctuation\n",
    "    text = re.sub(r\"[^a-zA-Z0-9]\",\" \",text)\n",
    "    \n",
    "    # tokenize text\n",
    "    tokens = word_tokenize(text)\n",
    "    \n",
    "    # initiate stop words\n",
    "    stop_words = stopwords.words(\"english\")\n",
    "    \n",
    "    # remove stop words\n",
    "    tokens = [t for t in tokens if t not in stop_words]\n",
    "    \n",
    "    # initiate lemmatizer\n",
    "    lemmatizer = WordNetLemmatizer()\n",
    "\n",
    "    # iterate through each token\n",
    "    clean_tokens = []\n",
    "    for tok in tokens:   \n",
    "        # lemmatize, normalize case, and remove leading/trailing white space\n",
    "        clean_tok = lemmatizer.lemmatize(tok).lower().strip()\n",
    "        clean_tokens.append(clean_tok)\n",
    "\n",
    "    return clean_tokens"
   ]
  },
  {
   "cell_type": "code",
   "execution_count": 26,
   "metadata": {},
   "outputs": [
    {
     "name": "stdout",
     "output_type": "stream",
     "text": [
      "Weather update - a cold front from Cuba that could pass over Haiti\n",
      "['weather', 'update', 'cold', 'front', 'cuba', 'could', 'pas', 'haiti'] \n",
      "\n",
      "Is the Hurricane over or is it not over\n",
      "['is', 'hurricane'] \n",
      "\n",
      "Looking for someone but no name\n",
      "['looking', 'someone', 'name'] \n",
      "\n",
      "UN reports Leogane 80-90 destroyed. Only Hospital St. Croix functioning. Needs supplies desperately.\n",
      "['un', 'report', 'leogane', '80', '90', 'destroyed', 'only', 'hospital', 'st', 'croix', 'functioning', 'needs', 'supply', 'desperately'] \n",
      "\n",
      "says: west side of Haiti, rest of the country today and tonight\n",
      "['say', 'west', 'side', 'haiti', 'rest', 'country', 'today', 'tonight'] \n",
      "\n"
     ]
    }
   ],
   "source": [
    "# testing load_data and tokenize functions\n",
    "\n",
    "test_X, test_y, test_labels = load_data('disaster_response.db')\n",
    "\n",
    "for message in test_X[:5]:\n",
    "    tokens = tokenize(message)\n",
    "    print(message)\n",
    "    print(tokens, '\\n')"
   ]
  },
  {
   "cell_type": "markdown",
   "metadata": {},
   "source": [
    "### 3. Build a machine learning pipeline\n",
    "This machine pipeline should take in the `message` column as input and output classification results on the other 36 categories in the dataset. You may find the [MultiOutputClassifier](http://scikit-learn.org/stable/modules/generated/sklearn.multioutput.MultiOutputClassifier.html) helpful for predicting multiple target variables."
   ]
  },
  {
   "cell_type": "code",
   "execution_count": 48,
   "metadata": {},
   "outputs": [],
   "source": [
    "# Build a pipeline, noted classes are imbalanced, used n_jobs = -1 to improve processing speeds\n",
    "pipeline = Pipeline([('vect', CountVectorizer(tokenizer=tokenize)),('tfidf',TfidfTransformer()), \n",
    "                     ('clf',MultiOutputClassifier(RandomForestClassifier(class_weight='balanced',n_jobs=-1)))])"
   ]
  },
  {
   "cell_type": "markdown",
   "metadata": {},
   "source": [
    "### 4. Train pipeline\n",
    "- Split data into train and test sets\n",
    "- Train pipeline"
   ]
  },
  {
   "cell_type": "code",
   "execution_count": 49,
   "metadata": {},
   "outputs": [],
   "source": [
    "# Getting X, y from load_data()\n",
    "X,y,category_names = load_data('disaster_response.db')\n",
    "\n",
    "# Perform train test split\n",
    "X_train, X_test, y_train, y_test = train_test_split(X, y, train_size=0.8, test_size=0.2)"
   ]
  },
  {
   "cell_type": "code",
   "execution_count": 50,
   "metadata": {
    "scrolled": true
   },
   "outputs": [],
   "source": [
    "# Train classifier\n",
    "pipeline.fit(X_train,y_train)\n",
    "\n",
    "# Predict on test data\n",
    "y_pred = pipeline.predict(X_test)"
   ]
  },
  {
   "cell_type": "markdown",
   "metadata": {},
   "source": [
    "### 5. Test your model\n",
    "Report the f1 score, precision and recall for each output category of the dataset. You can do this by iterating through the columns and calling sklearn's `classification_report` on each."
   ]
  },
  {
   "cell_type": "code",
   "execution_count": 51,
   "metadata": {},
   "outputs": [
    {
     "name": "stdout",
     "output_type": "stream",
     "text": [
      "                        precision    recall  f1-score   support\n",
      "\n",
      "               related       0.86      0.94      0.90      4004\n",
      "               request       0.80      0.51      0.63       878\n",
      "                 offer       0.00      0.00      0.00        23\n",
      "           aid_related       0.75      0.72      0.74      2164\n",
      "          medical_help       0.77      0.10      0.17       424\n",
      "      medical_products       0.78      0.09      0.15       244\n",
      "     search_and_rescue       1.00      0.01      0.03       140\n",
      "              security       0.00      0.00      0.00        95\n",
      "              military       0.33      0.02      0.05       163\n",
      "           child_alone       0.00      0.00      0.00         0\n",
      "                 water       0.77      0.34      0.47       323\n",
      "                  food       0.85      0.51      0.64       556\n",
      "               shelter       0.87      0.28      0.42       452\n",
      "              clothing       0.86      0.07      0.13        83\n",
      "                 money       0.80      0.03      0.06       125\n",
      "        missing_people       1.00      0.04      0.07        57\n",
      "              refugees       0.00      0.00      0.00       164\n",
      "                 death       0.88      0.15      0.25       248\n",
      "             other_aid       0.77      0.07      0.12       692\n",
      "infrastructure_related       0.33      0.00      0.01       333\n",
      "             transport       1.00      0.03      0.07       233\n",
      "             buildings       0.77      0.09      0.17       244\n",
      "           electricity       0.50      0.01      0.02       104\n",
      "                 tools       0.00      0.00      0.00        31\n",
      "             hospitals       0.00      0.00      0.00        62\n",
      "                 shops       0.00      0.00      0.00        18\n",
      "           aid_centers       0.00      0.00      0.00        56\n",
      "  other_infrastructure       0.00      0.00      0.00       226\n",
      "       weather_related       0.86      0.70      0.77      1458\n",
      "                floods       0.92      0.27      0.42       439\n",
      "                 storm       0.82      0.40      0.54       495\n",
      "                  fire       0.00      0.00      0.00        57\n",
      "            earthquake       0.90      0.70      0.78       490\n",
      "                  cold       0.20      0.01      0.02       103\n",
      "         other_weather       0.00      0.00      0.00       267\n",
      "         direct_report       0.77      0.40      0.53      1012\n",
      "\n",
      "             micro avg       0.83      0.52      0.64     16463\n",
      "             macro avg       0.53      0.18      0.23     16463\n",
      "          weighted avg       0.76      0.52      0.56     16463\n",
      "           samples avg       0.66      0.47      0.51     16463\n",
      "\n"
     ]
    },
    {
     "name": "stderr",
     "output_type": "stream",
     "text": [
      "C:\\Users\\Administrator\\anaconda3\\lib\\site-packages\\sklearn\\metrics\\_classification.py:1221: UndefinedMetricWarning: Precision and F-score are ill-defined and being set to 0.0 in labels with no predicted samples. Use `zero_division` parameter to control this behavior.\n",
      "  _warn_prf(average, modifier, msg_start, len(result))\n",
      "C:\\Users\\Administrator\\anaconda3\\lib\\site-packages\\sklearn\\metrics\\_classification.py:1221: UndefinedMetricWarning: Recall and F-score are ill-defined and being set to 0.0 in labels with no true samples. Use `zero_division` parameter to control this behavior.\n",
      "  _warn_prf(average, modifier, msg_start, len(result))\n",
      "C:\\Users\\Administrator\\anaconda3\\lib\\site-packages\\sklearn\\metrics\\_classification.py:1221: UndefinedMetricWarning: Precision and F-score are ill-defined and being set to 0.0 in samples with no predicted labels. Use `zero_division` parameter to control this behavior.\n",
      "  _warn_prf(average, modifier, msg_start, len(result))\n",
      "C:\\Users\\Administrator\\anaconda3\\lib\\site-packages\\sklearn\\metrics\\_classification.py:1221: UndefinedMetricWarning: Recall and F-score are ill-defined and being set to 0.0 in samples with no true labels. Use `zero_division` parameter to control this behavior.\n",
      "  _warn_prf(average, modifier, msg_start, len(result))\n"
     ]
    }
   ],
   "source": [
    "# Evaluating the model\n",
    "class_report = classification_report(y_test, y_pred, target_names=category_names)\n",
    "print(class_report)"
   ]
  },
  {
   "cell_type": "markdown",
   "metadata": {},
   "source": [
    "### 6. Improve your model\n",
    "Use grid search to find better parameters. "
   ]
  },
  {
   "cell_type": "code",
   "execution_count": 59,
   "metadata": {},
   "outputs": [
    {
     "data": {
      "text/plain": [
       "dict_keys(['memory', 'steps', 'verbose', 'vect', 'tfidf', 'clf', 'vect__analyzer', 'vect__binary', 'vect__decode_error', 'vect__dtype', 'vect__encoding', 'vect__input', 'vect__lowercase', 'vect__max_df', 'vect__max_features', 'vect__min_df', 'vect__ngram_range', 'vect__preprocessor', 'vect__stop_words', 'vect__strip_accents', 'vect__token_pattern', 'vect__tokenizer', 'vect__vocabulary', 'tfidf__norm', 'tfidf__smooth_idf', 'tfidf__sublinear_tf', 'tfidf__use_idf', 'clf__estimator__bootstrap', 'clf__estimator__ccp_alpha', 'clf__estimator__class_weight', 'clf__estimator__criterion', 'clf__estimator__max_depth', 'clf__estimator__max_features', 'clf__estimator__max_leaf_nodes', 'clf__estimator__max_samples', 'clf__estimator__min_impurity_decrease', 'clf__estimator__min_impurity_split', 'clf__estimator__min_samples_leaf', 'clf__estimator__min_samples_split', 'clf__estimator__min_weight_fraction_leaf', 'clf__estimator__n_estimators', 'clf__estimator__n_jobs', 'clf__estimator__oob_score', 'clf__estimator__random_state', 'clf__estimator__verbose', 'clf__estimator__warm_start', 'clf__estimator', 'clf__n_jobs'])"
      ]
     },
     "execution_count": 59,
     "metadata": {},
     "output_type": "execute_result"
    }
   ],
   "source": [
    "# Checking pipeline hyperparameters\n",
    "pipeline.get_params().keys()"
   ]
  },
  {
   "cell_type": "code",
   "execution_count": 63,
   "metadata": {},
   "outputs": [],
   "source": [
    "# hyperparameter tuning, using f1 score as scoring method   \n",
    "parameters =  {'clf__estimator__max_depth': [3,4,5],\n",
    "               'clf__estimator__min_samples_split': [3,5,7]}\n",
    "\n",
    "cv = GridSearchCV(pipeline, param_grid=parameters,scoring = 'f1_micro')"
   ]
  },
  {
   "cell_type": "markdown",
   "metadata": {},
   "source": [
    "### 7. Test your model\n",
    "Show the accuracy, precision, and recall of the tuned model.  \n",
    "\n",
    "Since this project focuses on code quality, process, and  pipelines, there is no minimum performance metric needed to pass. However, make sure to fine tune your models for accuracy, precision and recall to make your project stand out - especially for your portfolio!"
   ]
  },
  {
   "cell_type": "code",
   "execution_count": 64,
   "metadata": {
    "scrolled": false
   },
   "outputs": [
    {
     "name": "stdout",
     "output_type": "stream",
     "text": [
      "                        precision    recall  f1-score   support\n",
      "\n",
      "               related       0.92      0.66      0.77      4004\n",
      "               request       0.54      0.72      0.61       878\n",
      "                 offer       0.00      0.00      0.00        23\n",
      "           aid_related       0.72      0.63      0.67      2164\n",
      "          medical_help       0.38      0.54      0.44       424\n",
      "      medical_products       0.25      0.56      0.35       244\n",
      "     search_and_rescue       0.20      0.44      0.27       140\n",
      "              security       0.09      0.21      0.12        95\n",
      "              military       0.33      0.71      0.45       163\n",
      "           child_alone       0.00      0.00      0.00         0\n",
      "                 water       0.39      0.78      0.52       323\n",
      "                  food       0.53      0.77      0.62       556\n",
      "               shelter       0.39      0.72      0.50       452\n",
      "              clothing       0.24      0.48      0.32        83\n",
      "                 money       0.22      0.55      0.31       125\n",
      "        missing_people       0.20      0.35      0.25        57\n",
      "              refugees       0.20      0.49      0.29       164\n",
      "                 death       0.38      0.64      0.47       248\n",
      "             other_aid       0.33      0.50      0.40       692\n",
      "infrastructure_related       0.19      0.49      0.28       333\n",
      "             transport       0.19      0.44      0.27       233\n",
      "             buildings       0.31      0.61      0.41       244\n",
      "           electricity       0.21      0.49      0.30       104\n",
      "                 tools       0.12      0.10      0.11        31\n",
      "             hospitals       0.23      0.40      0.29        62\n",
      "                 shops       0.17      0.06      0.08        18\n",
      "           aid_centers       0.14      0.25      0.18        56\n",
      "  other_infrastructure       0.17      0.52      0.25       226\n",
      "       weather_related       0.68      0.66      0.67      1458\n",
      "                floods       0.40      0.65      0.50       439\n",
      "                 storm       0.52      0.68      0.59       495\n",
      "                  fire       0.11      0.16      0.13        57\n",
      "            earthquake       0.65      0.67      0.66       490\n",
      "                  cold       0.31      0.50      0.39       103\n",
      "         other_weather       0.19      0.53      0.28       267\n",
      "         direct_report       0.49      0.65      0.56      1012\n",
      "\n",
      "             micro avg       0.48      0.63      0.55     16463\n",
      "             macro avg       0.32      0.49      0.37     16463\n",
      "          weighted avg       0.58      0.63      0.58     16463\n",
      "           samples avg       0.37      0.45      0.36     16463\n",
      "\n"
     ]
    },
    {
     "name": "stderr",
     "output_type": "stream",
     "text": [
      "C:\\Users\\Administrator\\anaconda3\\lib\\site-packages\\sklearn\\metrics\\_classification.py:1221: UndefinedMetricWarning: Precision and F-score are ill-defined and being set to 0.0 in labels with no predicted samples. Use `zero_division` parameter to control this behavior.\n",
      "  _warn_prf(average, modifier, msg_start, len(result))\n",
      "C:\\Users\\Administrator\\anaconda3\\lib\\site-packages\\sklearn\\metrics\\_classification.py:1221: UndefinedMetricWarning: Recall and F-score are ill-defined and being set to 0.0 in labels with no true samples. Use `zero_division` parameter to control this behavior.\n",
      "  _warn_prf(average, modifier, msg_start, len(result))\n",
      "C:\\Users\\Administrator\\anaconda3\\lib\\site-packages\\sklearn\\metrics\\_classification.py:1221: UndefinedMetricWarning: Precision and F-score are ill-defined and being set to 0.0 in samples with no predicted labels. Use `zero_division` parameter to control this behavior.\n",
      "  _warn_prf(average, modifier, msg_start, len(result))\n",
      "C:\\Users\\Administrator\\anaconda3\\lib\\site-packages\\sklearn\\metrics\\_classification.py:1221: UndefinedMetricWarning: Recall and F-score are ill-defined and being set to 0.0 in samples with no true labels. Use `zero_division` parameter to control this behavior.\n",
      "  _warn_prf(average, modifier, msg_start, len(result))\n"
     ]
    }
   ],
   "source": [
    "# Train grid search classifier\n",
    "cv.fit(X_train,y_train)\n",
    "\n",
    "# Predict on test data\n",
    "y_pred = cv.predict(X_test)\n",
    "\n",
    "# Evaluate the model\n",
    "class_report = classification_report(y_test, y_pred, target_names=category_names)\n",
    "print(class_report)"
   ]
  },
  {
   "cell_type": "markdown",
   "metadata": {},
   "source": [
    "### 8. Try improving your model further. Here are a few ideas:\n",
    "* try other machine learning algorithms\n",
    "* add other features besides the TF-IDF"
   ]
  },
  {
   "cell_type": "code",
   "execution_count": 65,
   "metadata": {},
   "outputs": [],
   "source": [
    "# Build a pipeline using KNN classifier\n",
    "pipeline = Pipeline([('vect', CountVectorizer(tokenizer=tokenize)),('tfidf',TfidfTransformer()), \n",
    "                     ('knn',MultiOutputClassifier(KNeighborsClassifier(n_jobs=-1)))])  "
   ]
  },
  {
   "cell_type": "code",
   "execution_count": 66,
   "metadata": {},
   "outputs": [
    {
     "data": {
      "text/plain": [
       "dict_keys(['memory', 'steps', 'verbose', 'vect', 'tfidf', 'knn', 'vect__analyzer', 'vect__binary', 'vect__decode_error', 'vect__dtype', 'vect__encoding', 'vect__input', 'vect__lowercase', 'vect__max_df', 'vect__max_features', 'vect__min_df', 'vect__ngram_range', 'vect__preprocessor', 'vect__stop_words', 'vect__strip_accents', 'vect__token_pattern', 'vect__tokenizer', 'vect__vocabulary', 'tfidf__norm', 'tfidf__smooth_idf', 'tfidf__sublinear_tf', 'tfidf__use_idf', 'knn__estimator__algorithm', 'knn__estimator__leaf_size', 'knn__estimator__metric', 'knn__estimator__metric_params', 'knn__estimator__n_jobs', 'knn__estimator__n_neighbors', 'knn__estimator__p', 'knn__estimator__weights', 'knn__estimator', 'knn__n_jobs'])"
      ]
     },
     "execution_count": 66,
     "metadata": {},
     "output_type": "execute_result"
    }
   ],
   "source": [
    "# Checking pipeline hyperparameters\n",
    "pipeline.get_params().keys()"
   ]
  },
  {
   "cell_type": "code",
   "execution_count": 67,
   "metadata": {},
   "outputs": [
    {
     "name": "stdout",
     "output_type": "stream",
     "text": [
      "                        precision    recall  f1-score   support\n",
      "\n",
      "               related       0.83      0.93      0.88      4004\n",
      "               request       0.74      0.46      0.56       878\n",
      "                 offer       0.00      0.00      0.00        23\n",
      "           aid_related       0.73      0.46      0.56      2164\n",
      "          medical_help       0.62      0.07      0.12       424\n",
      "      medical_products       0.69      0.11      0.19       244\n",
      "     search_and_rescue       0.62      0.04      0.07       140\n",
      "              security       0.00      0.00      0.00        95\n",
      "              military       0.77      0.10      0.18       163\n",
      "           child_alone       0.00      0.00      0.00         0\n",
      "                 water       0.67      0.19      0.29       323\n",
      "                  food       0.72      0.29      0.42       556\n",
      "               shelter       0.70      0.18      0.28       452\n",
      "              clothing       0.71      0.14      0.24        83\n",
      "                 money       0.71      0.04      0.08       125\n",
      "        missing_people       1.00      0.02      0.03        57\n",
      "              refugees       0.44      0.02      0.05       164\n",
      "                 death       0.94      0.14      0.24       248\n",
      "             other_aid       0.54      0.05      0.10       692\n",
      "infrastructure_related       0.29      0.01      0.01       333\n",
      "             transport       0.92      0.05      0.10       233\n",
      "             buildings       0.72      0.09      0.15       244\n",
      "           electricity       0.80      0.08      0.14       104\n",
      "                 tools       0.00      0.00      0.00        31\n",
      "             hospitals       0.00      0.00      0.00        62\n",
      "                 shops       0.00      0.00      0.00        18\n",
      "           aid_centers       1.00      0.02      0.04        56\n",
      "  other_infrastructure       0.00      0.00      0.00       226\n",
      "       weather_related       0.77      0.44      0.56      1458\n",
      "                floods       0.82      0.16      0.26       439\n",
      "                 storm       0.74      0.22      0.34       495\n",
      "                  fire       0.50      0.04      0.07        57\n",
      "            earthquake       0.79      0.47      0.59       490\n",
      "                  cold       0.88      0.07      0.13       103\n",
      "         other_weather       0.44      0.03      0.06       267\n",
      "         direct_report       0.68      0.32      0.43      1012\n",
      "\n",
      "             micro avg       0.78      0.43      0.55     16463\n",
      "             macro avg       0.58      0.14      0.20     16463\n",
      "          weighted avg       0.72      0.43      0.48     16463\n",
      "           samples avg       0.66      0.42      0.46     16463\n",
      "\n"
     ]
    },
    {
     "name": "stderr",
     "output_type": "stream",
     "text": [
      "C:\\Users\\Administrator\\anaconda3\\lib\\site-packages\\sklearn\\metrics\\_classification.py:1221: UndefinedMetricWarning: Precision and F-score are ill-defined and being set to 0.0 in labels with no predicted samples. Use `zero_division` parameter to control this behavior.\n",
      "  _warn_prf(average, modifier, msg_start, len(result))\n",
      "C:\\Users\\Administrator\\anaconda3\\lib\\site-packages\\sklearn\\metrics\\_classification.py:1221: UndefinedMetricWarning: Recall and F-score are ill-defined and being set to 0.0 in labels with no true samples. Use `zero_division` parameter to control this behavior.\n",
      "  _warn_prf(average, modifier, msg_start, len(result))\n",
      "C:\\Users\\Administrator\\anaconda3\\lib\\site-packages\\sklearn\\metrics\\_classification.py:1221: UndefinedMetricWarning: Precision and F-score are ill-defined and being set to 0.0 in samples with no predicted labels. Use `zero_division` parameter to control this behavior.\n",
      "  _warn_prf(average, modifier, msg_start, len(result))\n",
      "C:\\Users\\Administrator\\anaconda3\\lib\\site-packages\\sklearn\\metrics\\_classification.py:1221: UndefinedMetricWarning: Recall and F-score are ill-defined and being set to 0.0 in samples with no true labels. Use `zero_division` parameter to control this behavior.\n",
      "  _warn_prf(average, modifier, msg_start, len(result))\n"
     ]
    }
   ],
   "source": [
    "# Using grid search to find better parameters\n",
    "parameters =  {'knn__estimator__n_neighbors': [3,5,7],      \n",
    "               'knn__estimator__p': [1,2]}\n",
    "\n",
    "cv = GridSearchCV(pipeline, param_grid=parameters,scoring = 'f1_micro')\n",
    "\n",
    "\n",
    "# Train grid search classifier\n",
    "cv.fit(X_train,y_train)\n",
    "\n",
    "# Predict on test data\n",
    "y_pred = cv.predict(X_test)\n",
    "\n",
    "# Evaluating the model\n",
    "class_report = classification_report(y_test, y_pred, target_names=category_names)\n",
    "print(class_report)"
   ]
  },
  {
   "cell_type": "markdown",
   "metadata": {},
   "source": [
    "### 9. Export your model as a pickle file"
   ]
  },
  {
   "cell_type": "code",
   "execution_count": null,
   "metadata": {},
   "outputs": [],
   "source": [
    "# save model  \n",
    "pickled_filename = 'trained_model.pkl'\n",
    "pickle.dump(cv, open(pickled_filename, 'wb'))"
   ]
  },
  {
   "cell_type": "markdown",
   "metadata": {},
   "source": [
    "### 10. Use this notebook to complete `train.py`\n",
    "Use the template file attached in the Resources folder to write a script that runs the steps above to create a database and export a model based on a new dataset specified by the user."
   ]
  },
  {
   "cell_type": "code",
   "execution_count": null,
   "metadata": {},
   "outputs": [],
   "source": [
    "# Load data and split into train/test sets\n",
    "X, y, test_labels = load_data('disaster_response.db')\n",
    "\n",
    "def build_model():\n",
    "    \n",
    "    '''\n",
    "    Function that uses a ML pipeline and grid search to return the best model \n",
    "    \n",
    "    Input: -\n",
    "    Output: model: best classification model\n",
    "    \n",
    "    '''\n",
    "    \n",
    "    # Build a pipeline, Note: classes are imbalanced\n",
    "    pipeline = Pipeline([('vect', CountVectorizer(tokenizer=tokenize)),('tfidf',TfidfTransformer()), \n",
    "                     ('clf',MultiOutputClassifier(RandomForestClassifier(class_weight='balanced',n_jobs=-1)))])  \n",
    "    \n",
    "    # Using grid search to find better parameters   \n",
    "    parameters =  {'clf__estimator__max_depth': [3,4,5],          \n",
    "               'clf__estimator__min_samples_split': [3,5,7]}     \n",
    "    \n",
    "    # Create grid search object\n",
    "    model = GridSearchCV(pipeline, param_grid=parameters ,scoring='f1_micro')\n",
    "        \n",
    "    return model\n",
    "\n",
    "def evaluate_model(model, X_test, y_test, category_names):  \n",
    "    \n",
    "    '''\n",
    "    Function that takes the model, X_test, y_test, and category names to evaluate the model and print classification report \n",
    "    \n",
    "    Input: model: best model from build_model(), X_test: testing set, y_test: test set categories, category_names: labels for categories\n",
    "    Output: classification report: classification report for y_test vs predicted values \n",
    "    \n",
    "    '''\n",
    "    \n",
    "    # Predict on test data\n",
    "    y_pred = model.predict(X_test)\n",
    "   \n",
    "    class_report = classification_report(y_test, y_pred, target_names=category_names)\n",
    "    print(class_report)\n",
    "\n",
    "def save_model(model, model_filepath):     # Saving pickled file\n",
    "    pickle.dump(model, open(model_filepath, 'wb'))\n"
   ]
  }
 ],
 "metadata": {
  "kernelspec": {
   "display_name": "Python 3",
   "language": "python",
   "name": "python3"
  },
  "language_info": {
   "codemirror_mode": {
    "name": "ipython",
    "version": 3
   },
   "file_extension": ".py",
   "mimetype": "text/x-python",
   "name": "python",
   "nbconvert_exporter": "python",
   "pygments_lexer": "ipython3",
   "version": "3.7.9"
  }
 },
 "nbformat": 4,
 "nbformat_minor": 2
}
